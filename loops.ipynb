{
 "cells": [
  {
   "cell_type": "code",
   "execution_count": 1,
   "metadata": {},
   "outputs": [
    {
     "name": "stdout",
     "output_type": "stream",
     "text": [
      "Temperature 18 might require a jacket.\n",
      "Temperature 22 is greater than 20.\n",
      "Temperature 22 might require a jacket.\n",
      "Temperature 30 is greater than 20.\n",
      "Temperature 30 might require a jacket.\n",
      "Temperature 35 is greater than 20.\n",
      "Temperature 35 might require a jacket.\n"
     ]
    }
   ],
   "source": [
    "temperatures = [18, 22, 30, 35]\n",
    "i = 0\n",
    "while i < len(temperatures):\n",
    "    if temperatures[i] > 20:\n",
    "        print(\"Temperature\", temperatures[i], \"is greater than 20.\")\n",
    "    print(\"Temperature\", temperatures[i], \"might require a jacket.\")\n",
    "    i += 1"
   ]
  },
  {
   "cell_type": "code",
   "execution_count": 3,
   "metadata": {},
   "outputs": [
    {
     "name": "stdout",
     "output_type": "stream",
     "text": [
      "It's really hot\n"
     ]
    }
   ],
   "source": [
    "# List of temperatures with mixed weather conditions\n",
    "temperatures = [32, 18, 21, 28, 35, 19, 22]\n",
    "\n",
    "for temp in temperatures:\n",
    "    # TODO: Print \"It's really hot.\" and exit the loop if temperature is above 30\n",
    "    if temp > 30:\n",
    "        print(\"It's really hot\")\n",
    "        break\n",
    "    \n",
    "    # TODO: Print \"It's quite chilly.\" and skip to the next iteration if temperature is below 20\n",
    "    elif temp < 20:\n",
    "        print(\"It's quite chilly\")\n",
    "        continue\n",
    "    print(\"Lovely weather.\")"
   ]
  },
  {
   "cell_type": "code",
   "execution_count": 4,
   "metadata": {},
   "outputs": [
    {
     "name": "stdout",
     "output_type": "stream",
     "text": [
      "Consider a light jacket.\n",
      "Wear warm clothes.\n"
     ]
    }
   ],
   "source": [
    "# Sequence of temperatures throughout the day\n",
    "temperatures = [16, 14, 20, 22, 19, 13]\n",
    "\n",
    "# TODO: Loop through temperatures to suggest clothing\n",
    "for temp in temperatures:\n",
    "    if temp < 15:\n",
    "        print(\"Wear warm clothes.\")\n",
    "        # TODO: If it's cold outside, we stop checking the temperatures. Add the needed line to interrupt the loop.\n",
    "        break\n",
    "    elif temp >= 20:\n",
    "        print(\"It's warm enough for light clothes\")\n",
    "        continue\n",
    "        # TODO: Add a line here that will skip the final print statement when it's warm enough for light clothes.\n",
    "    print(\"Consider a light jacket.\")  # Suggestion for in-between temperatures"
   ]
  },
  {
   "cell_type": "code",
   "execution_count": 5,
   "metadata": {},
   "outputs": [
    {
     "name": "stdout",
     "output_type": "stream",
     "text": [
      "It is cold, wear heavy clothes\n",
      "All that matters is life\n",
      "All that matters is life\n",
      "All that matters is life\n",
      "All that matters is life\n",
      "It is hot outside wear light clothes\n"
     ]
    }
   ],
   "source": [
    "# TODO: Define a list of temperatures\n",
    "temperatures = [5,18,20,15,19,22]\n",
    "\n",
    "for temp in temperatures:\n",
    "    if temp > 20:\n",
    "        print(\"It is hot outside wear light clothes\")\n",
    "        break\n",
    "    elif temp < 8:\n",
    "        print(\"It is cold, wear heavy clothes\")\n",
    "        continue\n",
    "    print(\"All that matters is life\")"
   ]
  },
  {
   "cell_type": "code",
   "execution_count": 1,
   "metadata": {},
   "outputs": [
    {
     "name": "stdout",
     "output_type": "stream",
     "text": [
      "10\n"
     ]
    }
   ],
   "source": [
    "text = \"Python is fun!\"\n",
    "cleaned_text = 0\n",
    "\n",
    "for char in text:\n",
    "    if char.islower():\n",
    "        cleaned_text += 1\n",
    "    # elif char.isupper():\n",
    "    #     cleaned_text += char.lower()\n",
    "    # else:  # Keep non-alphabetical characters unchanged\n",
    "    #     cleaned_text += char\n",
    "\n",
    "print(cleaned_text)  "
   ]
  },
  {
   "cell_type": "code",
   "execution_count": 2,
   "metadata": {},
   "outputs": [
    {
     "name": "stdout",
     "output_type": "stream",
     "text": [
      "Processed Text: HAPPYCODINGFRIENDS\n"
     ]
    }
   ],
   "source": [
    "def process_text(text):\n",
    "    new_text = \"\"\n",
    "    for char in text:\n",
    "        if char.isalpha() == True:\n",
    "            new_text += char.upper()\n",
    "    print(f\"Processed Text: {new_text}\")\n",
    "\n",
    "process_text(\"Happy Coding, Friends!\")"
   ]
  },
  {
   "cell_type": "code",
   "execution_count": 3,
   "metadata": {},
   "outputs": [
    {
     "name": "stdout",
     "output_type": "stream",
     "text": [
      "The encrypted text is: Ifmmp, Qzuipo!\n"
     ]
    }
   ],
   "source": [
    "def encrypt_string(text):\n",
    "    encrypted = []\n",
    "    for c in text:\n",
    "        if 'a' <= c <= 'y':  # Check if lowercase letter (a to y)\n",
    "            encrypted.append(chr(ord(c) + 1))  # Shift to next letter\n",
    "        elif c == 'z':  # Wrap around for 'z'\n",
    "            encrypted.append('a')\n",
    "        elif 'A' <= c <= 'Y':  # Check if uppercase letter (A to Y)\n",
    "            encrypted.append(chr(ord(c) + 1))  # Shift to next letter\n",
    "        elif c == 'Z':  # Wrap around for 'Z'\n",
    "            encrypted.append('A')\n",
    "        else:  # Keep non-letter characters unchanged\n",
    "            encrypted.append(c)\n",
    "    return ''.join(encrypted)\n",
    "\n",
    "# Encrypt the string \"Hello, Python!\"\n",
    "encrypted_text = encrypt_string(\"Hello, Python!\")\n",
    "print(\"The encrypted text is:\", encrypted_text)  # Output: \"Ifmmp, Qzuipo!\""
   ]
  },
  {
   "cell_type": "code",
   "execution_count": 4,
   "metadata": {},
   "outputs": [
    {
     "name": "stdout",
     "output_type": "stream",
     "text": [
      "Khoor, Sbwkrq!\n"
     ]
    }
   ],
   "source": [
    "def encrypt_text(text):\n",
    "    encrypted = \"\"\n",
    "    for char in text:\n",
    "        if char.isalpha():  # Check if the character is an alphabet\n",
    "            shift = 3\n",
    "            if char.isupper():  # Handle uppercase letters\n",
    "                # Shift within the range of uppercase letters (A-Z)\n",
    "                encrypted += chr((ord(char) - ord('A') + shift) % 26 + ord('A'))\n",
    "            else:  # Handle lowercase letters\n",
    "                # Shift within the range of lowercase letters (a-z)\n",
    "                encrypted += chr((ord(char) - ord('a') + shift) % 26 + ord('a'))\n",
    "        else:\n",
    "            encrypted += char  # Keep non-alphabet characters unchanged\n",
    "    return encrypted\n",
    "\n",
    "# Example text to encrypt\n",
    "original_text = \"Hello, Python!\"\n",
    "encrypted_text = encrypt_text(original_text)\n",
    "print(encrypted_text)  # Output: 'Khoor, Sbwkrq!'"
   ]
  },
  {
   "cell_type": "code",
   "execution_count": 1,
   "metadata": {},
   "outputs": [
    {
     "name": "stdout",
     "output_type": "stream",
     "text": [
      "Original text: Hello, Python!\n",
      "Encrypted text: Khoor, Sbwkrq!\n"
     ]
    }
   ],
   "source": [
    "def encrypt_text(text, shift):\n",
    "    encrypted = \"\"\n",
    "    for char in text:\n",
    "        if char.isalpha():  # Check if the character is an alphabet\n",
    "            if char.isupper():  # Handle uppercase letters\n",
    "                # Shift within the range of uppercase letters (A-Z)\n",
    "                encrypted += chr((ord(char) - ord('A') + shift) % 26 + ord('A'))\n",
    "            else:  # Handle lowercase letters\n",
    "                # Shift within the range of lowercase letters (a-z)\n",
    "                encrypted += chr((ord(char) - ord('a') + shift) % 26 + ord('a'))\n",
    "        else:\n",
    "            encrypted += char  # Keep non-alphabet characters unchanged\n",
    "    return encrypted\n",
    "\n",
    "# Test the function with sample text and a shift value\n",
    "original_text = \"Hello, Python!\"\n",
    "shift_amount = 3\n",
    "encrypted_text = encrypt_text(original_text, shift_amount)\n",
    "print(\"Original text:\", original_text)\n",
    "print(\"Encrypted text:\", encrypted_text)  # Output: 'Khoor, Sbwkrq!'"
   ]
  },
  {
   "cell_type": "code",
   "execution_count": 1,
   "metadata": {},
   "outputs": [
    {
     "name": "stdout",
     "output_type": "stream",
     "text": [
      "['Buzz Aldrin 1930', 'Yuri Gagarin 1934', 'Valentina Tereshkova 1937']\n"
     ]
    }
   ],
   "source": [
    "astronauts_data = \"Buzz Aldrin, 1930;Yuri Gagarin, 1934;Valentina Tereshkova, 1937\"\n",
    "\n",
    "# Splitting the string into a list of astronaut info and stripping any whitespace\n",
    "astronauts_list = astronauts_data.split(\";\")\n",
    "cleaned_astronauts = []\n",
    "\n",
    "for astronaut in astronauts_list:\n",
    "    name, year = astronaut.split(\",\")\n",
    "    cleaned_astronauts.append(name.rstrip() + ''.join(year.rstrip())) \n",
    "\n",
    "\n",
    "print(cleaned_astronauts)  # ['Buzz Aldrin 1930', 'Yuri Gagarin 1934', 'Valentina Tereshkova 1937']"
   ]
  }
 ],
 "metadata": {
  "kernelspec": {
   "display_name": "base",
   "language": "python",
   "name": "python3"
  },
  "language_info": {
   "codemirror_mode": {
    "name": "ipython",
    "version": 3
   },
   "file_extension": ".py",
   "mimetype": "text/x-python",
   "name": "python",
   "nbconvert_exporter": "python",
   "pygments_lexer": "ipython3",
   "version": "3.11.7"
  }
 },
 "nbformat": 4,
 "nbformat_minor": 2
}
