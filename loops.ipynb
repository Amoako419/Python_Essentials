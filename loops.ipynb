{
 "cells": [
  {
   "cell_type": "code",
   "execution_count": 1,
   "metadata": {},
   "outputs": [
    {
     "name": "stdout",
     "output_type": "stream",
     "text": [
      "Temperature 18 might require a jacket.\n",
      "Temperature 22 is greater than 20.\n",
      "Temperature 22 might require a jacket.\n",
      "Temperature 30 is greater than 20.\n",
      "Temperature 30 might require a jacket.\n",
      "Temperature 35 is greater than 20.\n",
      "Temperature 35 might require a jacket.\n"
     ]
    }
   ],
   "source": [
    "temperatures = [18, 22, 30, 35]\n",
    "i = 0\n",
    "while i < len(temperatures):\n",
    "    if temperatures[i] > 20:\n",
    "        print(\"Temperature\", temperatures[i], \"is greater than 20.\")\n",
    "    print(\"Temperature\", temperatures[i], \"might require a jacket.\")\n",
    "    i += 1"
   ]
  },
  {
   "cell_type": "code",
   "execution_count": 3,
   "metadata": {},
   "outputs": [
    {
     "name": "stdout",
     "output_type": "stream",
     "text": [
      "It's really hot\n"
     ]
    }
   ],
   "source": [
    "# List of temperatures with mixed weather conditions\n",
    "temperatures = [32, 18, 21, 28, 35, 19, 22]\n",
    "\n",
    "for temp in temperatures:\n",
    "    # TODO: Print \"It's really hot.\" and exit the loop if temperature is above 30\n",
    "    if temp > 30:\n",
    "        print(\"It's really hot\")\n",
    "        break\n",
    "    \n",
    "    # TODO: Print \"It's quite chilly.\" and skip to the next iteration if temperature is below 20\n",
    "    elif temp < 20:\n",
    "        print(\"It's quite chilly\")\n",
    "        continue\n",
    "    print(\"Lovely weather.\")"
   ]
  },
  {
   "cell_type": "code",
   "execution_count": 4,
   "metadata": {},
   "outputs": [
    {
     "name": "stdout",
     "output_type": "stream",
     "text": [
      "Consider a light jacket.\n",
      "Wear warm clothes.\n"
     ]
    }
   ],
   "source": [
    "# Sequence of temperatures throughout the day\n",
    "temperatures = [16, 14, 20, 22, 19, 13]\n",
    "\n",
    "# TODO: Loop through temperatures to suggest clothing\n",
    "for temp in temperatures:\n",
    "    if temp < 15:\n",
    "        print(\"Wear warm clothes.\")\n",
    "        # TODO: If it's cold outside, we stop checking the temperatures. Add the needed line to interrupt the loop.\n",
    "        break\n",
    "    elif temp >= 20:\n",
    "        print(\"It's warm enough for light clothes\")\n",
    "        continue\n",
    "        # TODO: Add a line here that will skip the final print statement when it's warm enough for light clothes.\n",
    "    print(\"Consider a light jacket.\")  # Suggestion for in-between temperatures"
   ]
  }
 ],
 "metadata": {
  "kernelspec": {
   "display_name": "base",
   "language": "python",
   "name": "python3"
  },
  "language_info": {
   "codemirror_mode": {
    "name": "ipython",
    "version": 3
   },
   "file_extension": ".py",
   "mimetype": "text/x-python",
   "name": "python",
   "nbconvert_exporter": "python",
   "pygments_lexer": "ipython3",
   "version": "3.11.7"
  }
 },
 "nbformat": 4,
 "nbformat_minor": 2
}
